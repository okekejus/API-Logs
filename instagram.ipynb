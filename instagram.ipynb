{
 "cells": [
  {
   "cell_type": "code",
   "execution_count": 1,
   "id": "921f0597",
   "metadata": {},
   "outputs": [],
   "source": [
    "import requests \n",
    "import pandas as pd\n",
    "import json \n",
    "import os\n",
    "from dotenv import load_dotenv, dotenv_values\n",
    "import datetime as dt"
   ]
  },
  {
   "cell_type": "code",
   "execution_count": 2,
   "id": "9095151f",
   "metadata": {},
   "outputs": [],
   "source": [
    "load_dotenv()\n",
    "tkn = os.getenv('INSTA_TOKEN')\n",
    "run_date = dt.datetime.today().date()"
   ]
  },
  {
   "cell_type": "code",
   "execution_count": null,
   "id": "9d99d390",
   "metadata": {},
   "outputs": [],
   "source": [
    "me_endpoint = f\"https://graph.instagram.com/v22.0/me?fields=followers_count,follows_count,media_count&access_token={tkn}\"\n",
    "instagram_info = requests.get(me_endpoint)\n",
    "vals = instagram_info.json()\n",
    "vals['run_date'] = run_date\n",
    "\n",
    "vals = pd.DataFrame([vals])\n",
    "vals.to_csv(f\"{run_date}_instagram.csv\", index=False)"
   ]
  },
  {
   "cell_type": "code",
   "execution_count": 4,
   "id": "891df6e6",
   "metadata": {},
   "outputs": [
    {
     "data": {
      "text/plain": [
       "<Response [200]>"
      ]
     },
     "execution_count": 4,
     "metadata": {},
     "output_type": "execute_result"
    }
   ],
   "source": [
    "me_endpoint = f\"https://graph.instagram.com/v22.0/me?fields=followers_count,follows_count,media_count&access_token={tkn}\"\n",
    "requests.get(me_endpoint)"
   ]
  }
 ],
 "metadata": {
  "kernelspec": {
   "display_name": "data_analysis",
   "language": "python",
   "name": "python3"
  },
  "language_info": {
   "codemirror_mode": {
    "name": "ipython",
    "version": 3
   },
   "file_extension": ".py",
   "mimetype": "text/x-python",
   "name": "python",
   "nbconvert_exporter": "python",
   "pygments_lexer": "ipython3",
   "version": "3.9.15"
  }
 },
 "nbformat": 4,
 "nbformat_minor": 5
}
