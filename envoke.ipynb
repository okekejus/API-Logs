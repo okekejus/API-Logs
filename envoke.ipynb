{
 "cells": [
  {
   "cell_type": "markdown",
   "id": "586949f5",
   "metadata": {},
   "source": [
    "# Envoke API Implementation \n",
    "Uses a combination of the Contacts and Reporting APIs. Contacts will be used to gather lists of subscribed contacts daily. This will allow for a record of all contacts at any given time, as well as a count of contacts on a daily basis. \n",
    "\n",
    "Reporting API is still in beta mode, which means a lot of things are rough around the edges still. Returns stats about: \n",
    "- Sends \n",
    "- Opens \n",
    "- Clicks \n",
    "- Bounces \n",
    "- Revoked"
   ]
  },
  {
   "cell_type": "code",
   "execution_count": null,
   "id": "f102ccec",
   "metadata": {},
   "outputs": [],
   "source": [
    "import requests \n",
    "from requests.auth import HTTPBasicAuth\n",
    "import os\n",
    "import json \n",
    "import pandas as pd \n",
    "import datetime as dt \n",
    "from dotenv import load_dotenv, dotenv_values\n",
    "import time\n",
    "import numpy as np "
   ]
  },
  {
   "cell_type": "code",
   "execution_count": null,
   "id": "409d8cff",
   "metadata": {},
   "outputs": [],
   "source": [
    "load_dotenv() \n",
    "basic = HTTPBasicAuth(os.getenv(\"USERNAME\"), os.getenv(\"PASSWORD\"))\n",
    "run_date = str(dt.date.today() - dt.timedelta(days = 1))"
   ]
  },
  {
   "cell_type": "markdown",
   "id": "b5cba625",
   "metadata": {},
   "source": [
    "## Functions \n",
    "- Left: For the dates in the dataset. They are formatted strangely for clients, leading to the creation of this function. Imitates Left in DAX\n",
    "- Mid: Similar to left, except it allows me to choose any chunk within the string. Some mental math has to be done to get the positions right\n",
    "- Expander: There are more attributes for each contact stored within a list. This list needs to be expanded to get those individual attributes. This function allows you to search  a list for a specific phrase + return the response associated with said phrase. "
   ]
  },
  {
   "cell_type": "code",
   "execution_count": null,
   "id": "f1aaf6dd",
   "metadata": {},
   "outputs": [],
   "source": [
    "def left(s, amount): \n",
    "    return s[:amount]\n",
    "\n",
    "def mid(s, offset, amount): \n",
    "    return s[offset:offset+amount]\n",
    "\n",
    "def expander(list, phrase, offset=2, amount=2): \n",
    "    detection = [s.find(phrase) > 0 for s in list]\n",
    "\n",
    "    try:\n",
    "        detection = detection.index(True)\n",
    "        resp = list[detection]\n",
    "        resp = mid(resp, offset, amount)\n",
    "        return resp\n",
    "    except ValueError as v: \n",
    "        return np.nan\n",
    "    "
   ]
  },
  {
   "cell_type": "markdown",
   "id": "8c051a03",
   "metadata": {},
   "source": [
    "## Email Metrics for Previous Day"
   ]
  },
  {
   "cell_type": "code",
   "execution_count": null,
   "id": "73f80c51",
   "metadata": {},
   "outputs": [
    {
     "name": "stdout",
     "output_type": "stream",
     "text": [
      "There have been no messages sent using Envoke on 2025-04-15\n"
     ]
    }
   ],
   "source": [
    "def get_email_metrics(run_date): \n",
    "\n",
    "        url = f\"https://e1.envoke.com/v1/reports/emailActivityMetrics?start_date={run_date}&end_date={run_date}\"\n",
    "        params = {'filter[sent_date]': [f\"{run_date}\"]}\n",
    "        payload = {}\n",
    "        headers = {}\n",
    "\n",
    "\n",
    "        try: \n",
    "            resp = requests.get(url=url, headers=headers, data=payload, auth=basic, params=params) # sending request to API using url, filter, and authorization \n",
    "\n",
    "            if resp.status_code == 200: # if response is successful, turn the json file into a df for future use\n",
    "                \n",
    "                resp_df = pd.DataFrame(resp.json()) # conversion into dataframe\n",
    "                resp_df = resp_df[resp_df['sent_date'] == run_date] # additional filtering required at the moment, for some reason the date filter doesn't work.\n",
    "                \n",
    "                \n",
    "                if len(resp_df['message_name']) > 0:\n",
    "                    old_message_stats = pd.read_csv('envoke/Messages/aggregate_message_metrics.csv')\n",
    "                    resp_df.to_csv(f'envoke/Messages/message_stats_{run_date}.csv', index=False)\n",
    "                    new_aggregate = pd.concat([old_message_stats, resp_df])\n",
    "                    new_aggregate.to_csv(\"envoke/Messages/aggregate_message_metrics.csv\", index=False)\n",
    "                    return resp_df\n",
    "                else: \n",
    "                    print(f\"There have been no messages sent using Envoke on {run_date}\")\n",
    "\n",
    "            else: \n",
    "                print(f\"Initial request failed due to error code {resp.status_code}\")\n",
    "\n",
    "        except Exception as e: \n",
    "            print(f\"Error occurred during the request: {e}\")\n",
    "\n",
    "        except requests.exceptions.RequestException as e: # this will handle specific requests exceptions, which can be informative\n",
    "            print(f\"An unexpected error occurred during the request: {e}\")\n",
    "\n",
    "get_email_metrics(run_date=run_date)\n"
   ]
  },
  {
   "cell_type": "markdown",
   "id": "aa87fef8",
   "metadata": {},
   "source": [
    "## Active/Subscribed Contacts \n",
    "This refers to clients with a constent status that is one of the following: \n",
    "- Implied - No Expiry \n",
    "- Express\n"
   ]
  },
  {
   "cell_type": "code",
   "execution_count": null,
   "id": "3027a285",
   "metadata": {},
   "outputs": [
    {
     "name": "stdout",
     "output_type": "stream",
     "text": [
      "Skipping 0 contacts.\n",
      "Skipping 100 contacts.\n",
      "........\n",
      "Skipping 100000 contacts.\n",
      "Skipping 100100 contacts.\n"
     ]
    }
   ],
   "source": [
    "def get_active_contacts(status_filters=[\"Implied - No Expiry\",\"Express\"], skip=0):\n",
    "    resp_df = pd.DataFrame()\n",
    "    check = 1\n",
    "    all_results = []\n",
    "    url = f\"https://e1.envoke.com/v1/contacts?skip={skip}&limit=100\"\n",
    "    params = {'filter[consent_status]': status_filters}\n",
    "    payload = {}\n",
    "    headers = {}\n",
    "\n",
    "    # need to add a filter for people with status: 'Implied - No Expiry', 'Express' to prevent fetching ALL contacts in the database. \n",
    "    try: \n",
    "        response = requests.get(url, headers=headers, data=payload, auth=basic, params=params)\n",
    "\n",
    "        if response.status_code == 200: \n",
    "            response_df = pd.DataFrame(response.json()) # convert initial response to dataframe\n",
    "            all_results.append(response.json()) # append results to list for future concatenation\n",
    "            check = len(response.json()) # check the length of the response to the request\n",
    "        else: \n",
    "            print(f\"Initial request failed with status code {response.status_code}\")\n",
    "            check = 0 \n",
    "    except Exception as e: \n",
    "        print(f\"Error occurred during initial request: {e}\")\n",
    "        check = 0 # stop loop if there is request error \n",
    "\n",
    "    while check > 0: \n",
    "        skip += 100 # adding 100 to the skip number as you are limited to a maximum of 100 contacts per request\n",
    "        url = f\"https://e1.envoke.com/v1/contacts?skip={skip}&limit=100\"\n",
    "        print(f\"Skipping {skip-100} contacts.\")\n",
    "\n",
    "        try:\n",
    "            response = requests.get(url, headers=headers, data=payload, auth=basic, params=params) # send next request \n",
    "\n",
    "            if response.status_code == 200: \n",
    "                results = response.json() # get the json response \n",
    "                all_results.append(results)\n",
    "                check = len(results)\n",
    "\n",
    "\n",
    "                time.sleep(1) \n",
    "            else: \n",
    "                print(f\"Request failed with code {response.status_code}\")\n",
    "                check = 0 # stop loop \n",
    "        except Exception as e: \n",
    "            print(f\"Error occurred during the request: {e}\")\n",
    "            check = 0 \n",
    "    current_contacts = pd.concat([pd.DataFrame(result) for result in all_results], ignore_index=True)\n",
    "\n",
    "    current_contacts['full_name'] = current_contacts['first_name'] + ' ' + current_contacts['last_name'] # full name to make things easier \n",
    "    current_contacts['full_name'] = current_contacts['full_name'].replace(r\"^\\s*$\", np.nan, regex=True)\n",
    "    current_contacts['date_created'] = current_contacts['date_created'].apply(lambda x: left(x, 10))\n",
    "    current_contacts['current_director'] = current_contacts['interests'].apply(lambda x: expander(x, \"currently a director\", amount=3))\n",
    "    current_contacts['been_director'] = current_contacts['interests'].apply(lambda x: expander(x, \"been a director\",  amount=3))\n",
    "    current_contacts['is_condo_owner'] = current_contacts['interests'].apply(lambda x: expander(x, \"a condo owner\", amount=3))\n",
    "    current_contacts['referral'] = current_contacts['interests'].apply(lambda x: True if expander(x, \"Referral\") == \"Ref\" else False)\n",
    "    current_contacts[\"full_name\"] = current_contacts[\"full_name\"].str.title()\n",
    "    return current_contacts\n",
    "\n",
    "current_contacts = get_active_contacts()"
   ]
  },
  {
   "cell_type": "code",
   "execution_count": null,
   "id": "a0605299",
   "metadata": {},
   "outputs": [],
   "source": [
    "d = {'date': [run_date], \n",
    "     'total_active_contacts': [len(current_contacts['id'])]}\n",
    "\n",
    "master_contact_list_addon = pd.DataFrame(d)"
   ]
  },
  {
   "cell_type": "code",
   "execution_count": null,
   "id": "4bc56639",
   "metadata": {},
   "outputs": [],
   "source": [
    "\n",
    "current_contacts = current_contacts.drop(columns=['custom_fields','interests', 'autoresponders'])"
   ]
  },
  {
   "cell_type": "code",
   "execution_count": null,
   "id": "6de48ea3",
   "metadata": {},
   "outputs": [],
   "source": [
    "current_contacts.to_csv(f\"envoke/Contacts/active_contacts.csv\", index=False) # need to maintain most current list of contacts as dataset for contact demographics \n",
    "master_contact_list_addon.to_csv(f\"envoke/Contacts/master_contact_list{run_date}.csv\", index=False)"
   ]
  }
 ],
 "metadata": {
  "language_info": {
   "name": "python"
  }
 },
 "nbformat": 4,
 "nbformat_minor": 5
}
