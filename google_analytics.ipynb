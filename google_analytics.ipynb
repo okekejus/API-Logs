{
 "cells": [
  {
   "cell_type": "code",
   "execution_count": null,
   "id": "454c4149",
   "metadata": {},
   "outputs": [],
   "source": [
    "# Standard modules \n",
    "import os \n",
    "import pandas as pd \n",
    "import sys \n",
    "from datetime import datetime, timedelta\n",
    "from dotenv import load_dotenv, dotenv_values\n",
    "# Analytics modules\n",
    "from google.analytics.data_v1beta import BetaAnalyticsDataClient\n",
    "from google.analytics.data_v1beta import DateRange, Metric, Dimension, RunReportRequest\n",
    "from google.auth.transport.requests import Request \n"
   ]
  },
  {
   "cell_type": "code",
   "execution_count": null,
   "id": "e861f998",
   "metadata": {},
   "outputs": [],
   "source": [
    "# important metrics\n",
    "report_date = datetime.today().date() - timedelta(days=1) \n",
    "\n",
    "# Clients accepts yesterday as a prompt, so will use this - set the report to run once a day at like 12:01 AM - gathering the previous day's worth of reporting. \n",
    "load_dotenv()\n",
    "starting_date = '2024-11-12'\n",
    "ending_date = '2025-03-18'\n",
    "property_id = os.getenv('PROPERTY_ID')\n",
    "# relevant authentication details\n"
   ]
  },
  {
   "cell_type": "code",
   "execution_count": null,
   "id": "7b79297f",
   "metadata": {},
   "outputs": [],
   "source": [
    "def get_metrics(starting_date, ending_date):\n",
    "    # Initialize Client \n",
    "    client = BetaAnalyticsDataClient()\n",
    "\n",
    "    # Set up date range, metrics, and dimensions \n",
    "    date_range = DateRange(start_date=starting_date, end_date=ending_date)\n",
    "    metrics = [Metric(name='sessions'), \n",
    "           Metric(name='activeUsers'), \n",
    "           Metric(name='userEngagementDuration'), \n",
    "           Metric(name='totalUsers'), \n",
    "           Metric(name='scrolledUsers'), \n",
    "           Metric(name='screenPageViewsPerUser'), \n",
    "           Metric(name='bounceRate'), \n",
    "           Metric(name='eventCount')\n",
    "           ]\n",
    "\n",
    "    dimensions = [Dimension(name='eventName'), \n",
    "              Dimension(name='country'), \n",
    "              Dimension(name='city'), \n",
    "              Dimension(name='pageTitle'), \n",
    "              Dimension(name='PageLocation'), \n",
    "              Dimension(name='date'), \n",
    "              Dimension(name='percentScrolled'), \n",
    "              Dimension(name='platformDeviceCategory'),\n",
    "              Dimension(name='browser')]\n",
    "\n",
    "\n",
    "    # submit request \n",
    "    request = RunReportRequest(\n",
    "        property=f\"properties/{property_id}\",\n",
    "        date_ranges=[date_range],\n",
    "        metrics=metrics,\n",
    "        dimensions=dimensions\n",
    "    )\n",
    "\n",
    "    # Run the report\n",
    "    response = client.run_report(request)\n",
    "\n",
    "    data = []\n",
    "    for row in response.rows:\n",
    "        row_data = {}\n",
    "    # Iterate through dimensions and metrics to create a dictionary for each row\n",
    "        for i, dimension in enumerate(row.dimension_values):\n",
    "            row_data[dimensions[i].name] = dimension.value\n",
    "        for i, metric in enumerate(row.metric_values):\n",
    "            row_data[metrics[i].name] = metric.value\n",
    "        data.append(row_data)\n",
    "\n",
    "    # Create a DataFrame from the list of dictionaries\n",
    "    results_df = pd.DataFrame(data)\n",
    "\n",
    "\n",
    "\n",
    "    return results_df"
   ]
  },
  {
   "cell_type": "code",
   "execution_count": null,
   "id": "2ca93ed9",
   "metadata": {},
   "outputs": [],
   "source": [
    "results_df = get_metrics(starting_date, ending_date)\n",
    "results_df"
   ]
  },
  {
   "cell_type": "code",
   "execution_count": null,
   "id": "bc883932",
   "metadata": {},
   "outputs": [],
   "source": [
    "# Correcting date format    \n",
    "results_df['date'] = results_df['date'].apply(lambda x: datetime.strptime(x, '%Y%m%d').date().strftime('%Y-%m-%d'))\n",
    "results_df.columns = ['event_name', 'country', 'city', 'page_title', 'page_location', 'date', 'percent_scrolled', 'platform_device', 'browser', 'sessions', 'active_users', 'user_engagement_duration', 'total_users', \n",
    "                      'scrolled_users', 'screen_page_views_per_user', 'bounce_rate', 'event_count']\n",
    "results_df.sort_values('date', ascending=True, inplace=True)\n",
    "    # Resetting index\n",
    "results_df.reset_index(drop=True, inplace=True)\n",
    "\n",
    "dtypes = {'sessions': 'int', \n",
    "          'active_users': 'int', \n",
    "          'user_engagement_duration': 'int', \n",
    "          'total_users': 'int',\n",
    "          'scrolled_users': 'int',\n",
    "          'screen_page_views_per_user': 'float',\n",
    "          'bounce_rate': 'float',\n",
    "          'event_count': 'int'}\n",
    "    # changing types \n",
    "results_df = results_df.astype(dtypes)"
   ]
  },
  {
   "cell_type": "code",
   "execution_count": null,
   "id": "9956f6a1",
   "metadata": {},
   "outputs": [],
   "source": [
    "results_df"
   ]
  },
  {
   "cell_type": "code",
   "execution_count": null,
   "id": "1ac059c8",
   "metadata": {},
   "outputs": [],
   "source": [
    "results_df.to_csv(f'data/website_data_{report_date}.csv', index=False)"
   ]
  },
  {
   "cell_type": "code",
   "execution_count": null,
   "id": "39865453",
   "metadata": {},
   "outputs": [],
   "source": [
    "aggreagtion = pd.read_csv(\"data/website_data.csv\")"
   ]
  },
  {
   "cell_type": "code",
   "execution_count": null,
   "id": "e1fe9032",
   "metadata": {},
   "outputs": [],
   "source": [
    "new_data = pd.concat([aggreagtion, results_df])"
   ]
  },
  {
   "cell_type": "code",
   "execution_count": null,
   "id": "8b1153b5",
   "metadata": {},
   "outputs": [],
   "source": [
    "new_data.to_csv(\"data/website_data.csv\")"
   ]
  }
 ],
 "metadata": {
  "language_info": {
   "name": "python"
  }
 },
 "nbformat": 4,
 "nbformat_minor": 5
}
